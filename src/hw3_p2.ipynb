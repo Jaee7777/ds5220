{
 "cells": [
  {
   "cell_type": "code",
   "execution_count": 41,
   "id": "e9af3f31",
   "metadata": {},
   "outputs": [],
   "source": [
    "from sklearn.datasets import load_iris\n",
    "import pandas as pd\n",
    "import numpy as np"
   ]
  },
  {
   "cell_type": "code",
   "execution_count": null,
   "id": "c3d0ee1b",
   "metadata": {},
   "outputs": [],
   "source": [
    "def entropy(probability):\n",
    "    result = 0\n",
    "    for p in probability:\n",
    "        result -= p * np.log2(p)\n",
    "    return result\n",
    "\n",
    "def gini(probability):\n",
    "    result = 1\n",
    "    for p in probability:\n",
    "        result -= p**2\n",
    "    return result\n",
    "\n",
    "class Node:\n",
    "    def __init__(self, df, target):\n",
    "        self.df = df # df belonging to the node.\n",
    "        self.target = target # Target attribute name.\n",
    "        self.columns = df.columns.to_list() # Attribues/Columns of the node/df.\n",
    "        self.columns.remove(target)\n",
    "        self.left = None # Left child node.\n",
    "        self.right = None # Right child node.\n",
    "\n",
    "    def findSplitPoint(self, attr_name):\n",
    "        df_sort = self.df.sort_values(by=attr_name) # Sort df based on the selected attribute.\n",
    "\n",
    "        # Initialization.\n",
    "        split_point = []\n",
    "        label_pre = df_sort[self.target][0]\n",
    "        attr_pre = df_sort[attr_name][0]\n",
    "\n",
    "        # Loop through target labels sorted based on the selected attribute.\n",
    "        for i, label in enumerate(df_sort[self.target]):\n",
    "            if i > 0 and df_sort[attr_name].iloc[i] != df_sort[attr_name].iloc[i-1]: # If attribute value has changed.\n",
    "                attr_pre = df_sort[attr_name].iloc[i-1] # Update previous attribute value.\n",
    "            if label == label_pre: # Continue if the label didn't change.\n",
    "                continue\n",
    "\n",
    "            dif = df_sort[attr_name].iloc[i] - attr_pre # Difference of previous and current attribute value.\n",
    "            split_point_current = df_sort[attr_name].iloc[i] - dif/2 # The average betwee previous and current attribute value.\n",
    "\n",
    "            if split_point == [] or split_point_current != split_point[-1]: # If the split point has not already occurred.\n",
    "                split_point.append(split_point_current) # Store the split point.\n",
    "\n",
    "            label_pre = label # Update previous label.\n",
    "            \n",
    "        return df_sort, split_point\n"
   ]
  },
  {
   "cell_type": "code",
   "execution_count": 182,
   "id": "22cfab17",
   "metadata": {},
   "outputs": [
    {
     "name": "stdout",
     "output_type": "stream",
     "text": [
      "[np.float64(4.85), np.float64(4.95), np.float64(5.05), np.float64(5.15), np.float64(5.35), np.float64(5.45), np.float64(5.55), np.float64(5.65), np.float64(5.75), np.float64(5.85), np.float64(5.95), np.float64(6.05), np.float64(6.15), np.float64(6.25), np.float64(6.35), np.float64(6.45), np.float64(6.65), np.float64(6.75), np.float64(6.85), np.float64(6.95), np.float64(7.05)]\n"
     ]
    }
   ],
   "source": [
    "iris = load_iris()\n",
    "df = pd.DataFrame(data=iris.data, columns=iris.feature_names)\n",
    "df['target'] = iris.target\n",
    "\n",
    "node = Node(df, 'target')\n",
    "\n",
    "\n",
    "data, split_point = node.findSplitPoint(node.columns[0])\n",
    "print(split_point)"
   ]
  },
  {
   "cell_type": "code",
   "execution_count": 28,
   "id": "d6b9849c",
   "metadata": {},
   "outputs": [
    {
     "name": "stdout",
     "output_type": "stream",
     "text": [
      "0.4200000000000001\n",
      "0.4444444444444444\n",
      "0.020039999999999947\n"
     ]
    }
   ],
   "source": [
    "print(1- (3/10)**2 - (7/10)**2)\n",
    "\n",
    "print(1-(3/9)**2 - (6/9)**2)\n",
    "print(0.42 - (9/10)*0.4444)"
   ]
  },
  {
   "cell_type": "code",
   "execution_count": 34,
   "id": "65eea390",
   "metadata": {},
   "outputs": [
    {
     "name": "stdout",
     "output_type": "stream",
     "text": [
      "0.4200000000000001\n",
      "0.4444444444444444\n",
      "0.02000000000000013\n"
     ]
    }
   ],
   "source": [
    "print(gini([3/10,7/10]))\n",
    "print(gini([3/9,6/9]))\n",
    "print(gini([0.3,0.7]) - (9/10)*gini([3/9,6/9]))"
   ]
  }
 ],
 "metadata": {
  "kernelspec": {
   "display_name": "ds5220",
   "language": "python",
   "name": "python3"
  },
  "language_info": {
   "codemirror_mode": {
    "name": "ipython",
    "version": 3
   },
   "file_extension": ".py",
   "mimetype": "text/x-python",
   "name": "python",
   "nbconvert_exporter": "python",
   "pygments_lexer": "ipython3",
   "version": "3.9.23"
  }
 },
 "nbformat": 4,
 "nbformat_minor": 5
}
